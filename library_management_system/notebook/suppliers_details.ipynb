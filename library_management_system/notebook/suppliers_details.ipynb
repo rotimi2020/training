{
 "cells": [
  {
   "cell_type": "markdown",
   "metadata": {},
   "source": [
    "# Import Libraries"
   ]
  },
  {
   "cell_type": "code",
   "execution_count": 1,
   "metadata": {},
   "outputs": [],
   "source": [
    "# Load libraries\n",
    "import numpy as np\n",
    "from matplotlib import pyplot\n",
    "from pandas import read_csv \n",
    "from pandas import set_option\n",
    "set_option('display.max_rows', 500)\n",
    "set_option('display.max_columns', 500)\n",
    "import pandas as pd\n",
    "import matplotlib.pyplot as plt\n",
    "from datetime import datetime\n",
    "import pyodbc\n",
    "from pandas.plotting import scatter_matrix\n",
    "import seaborn as sns\n",
    "import warnings\n",
    "warnings.filterwarnings(\"ignore\")"
   ]
  },
  {
   "cell_type": "markdown",
   "metadata": {},
   "source": [
    "# Connect to SQL Server"
   ]
  },
  {
   "cell_type": "code",
   "execution_count": 2,
   "metadata": {},
   "outputs": [
    {
     "data": {
      "text/plain": [
       "['SQL Server', 'ODBC Driver 17 for SQL Server']"
      ]
     },
     "execution_count": 2,
     "metadata": {},
     "output_type": "execute_result"
    }
   ],
   "source": [
    "pyodbc.drivers()"
   ]
  },
  {
   "cell_type": "code",
   "execution_count": 3,
   "metadata": {},
   "outputs": [],
   "source": [
    "connection = pyodbc.connect(\n",
    "\"Driver={ODBC Driver 17 for SQL Server};\"\n",
    "\"Server=DESKTOP-ROTIMI\\SQLEXPRESS;\"\n",
    "\"Database=LMS;\"\n",
    "\"Trusted_Connection=yes;\")"
   ]
  },
  {
   "cell_type": "markdown",
   "metadata": {},
   "source": [
    "# load dataset"
   ]
  },
  {
   "cell_type": "markdown",
   "metadata": {},
   "source": [
    "#### Extracting data from SQL Server"
   ]
  },
  {
   "cell_type": "code",
   "execution_count": 4,
   "metadata": {},
   "outputs": [],
   "source": [
    "# View data from SQL Server\n",
    "Suppliers_Details = pd.read_sql(\"Select * from [dbo].[LMS_SUPPLIERS_DETAILS]\",connection)"
   ]
  },
  {
   "cell_type": "raw",
   "metadata": {},
   "source": [
    "Analyze Data\n"
   ]
  },
  {
   "cell_type": "markdown",
   "metadata": {},
   "source": [
    "# Suppliers_Details Table"
   ]
  },
  {
   "cell_type": "markdown",
   "metadata": {},
   "source": [
    "#### View Data"
   ]
  },
  {
   "cell_type": "code",
   "execution_count": 5,
   "metadata": {},
   "outputs": [
    {
     "data": {
      "text/html": [
       "<div>\n",
       "<style scoped>\n",
       "    .dataframe tbody tr th:only-of-type {\n",
       "        vertical-align: middle;\n",
       "    }\n",
       "\n",
       "    .dataframe tbody tr th {\n",
       "        vertical-align: top;\n",
       "    }\n",
       "\n",
       "    .dataframe thead th {\n",
       "        text-align: right;\n",
       "    }\n",
       "</style>\n",
       "<table border=\"1\" class=\"dataframe\">\n",
       "  <thead>\n",
       "    <tr style=\"text-align: right;\">\n",
       "      <th></th>\n",
       "      <th>SUPPLIER_ID</th>\n",
       "      <th>SUPPLIER_NAME</th>\n",
       "      <th>ADDRESS</th>\n",
       "      <th>CONTACT</th>\n",
       "      <th>EMAIL</th>\n",
       "    </tr>\n",
       "  </thead>\n",
       "  <tbody>\n",
       "    <tr>\n",
       "      <th>0</th>\n",
       "      <td>S01</td>\n",
       "      <td>SINGAPORE SHOPPEE</td>\n",
       "      <td>CHENNAI</td>\n",
       "      <td>9894123555</td>\n",
       "      <td>sing@gmail.com</td>\n",
       "    </tr>\n",
       "    <tr>\n",
       "      <th>1</th>\n",
       "      <td>S02</td>\n",
       "      <td>JK Stores</td>\n",
       "      <td>MUMBAI</td>\n",
       "      <td>9940123450</td>\n",
       "      <td>jks@yahoo.com</td>\n",
       "    </tr>\n",
       "    <tr>\n",
       "      <th>2</th>\n",
       "      <td>S03</td>\n",
       "      <td>ROSE BOOK STORE</td>\n",
       "      <td>TRIVANDRUM</td>\n",
       "      <td>9444411222</td>\n",
       "      <td>rose@gmail.com</td>\n",
       "    </tr>\n",
       "    <tr>\n",
       "      <th>3</th>\n",
       "      <td>S04</td>\n",
       "      <td>KAVARI STORE</td>\n",
       "      <td>DELHI</td>\n",
       "      <td>8630001452</td>\n",
       "      <td>kavi@redif.com</td>\n",
       "    </tr>\n",
       "    <tr>\n",
       "      <th>4</th>\n",
       "      <td>S05</td>\n",
       "      <td>EINSTEN BOOK GALLARY</td>\n",
       "      <td>US</td>\n",
       "      <td>9542000001</td>\n",
       "      <td>eingal@aol.com</td>\n",
       "    </tr>\n",
       "  </tbody>\n",
       "</table>\n",
       "</div>"
      ],
      "text/plain": [
       "  SUPPLIER_ID         SUPPLIER_NAME     ADDRESS     CONTACT           EMAIL\n",
       "0         S01     SINGAPORE SHOPPEE     CHENNAI  9894123555  sing@gmail.com\n",
       "1         S02             JK Stores      MUMBAI  9940123450   jks@yahoo.com\n",
       "2         S03       ROSE BOOK STORE  TRIVANDRUM  9444411222  rose@gmail.com\n",
       "3         S04          KAVARI STORE       DELHI  8630001452  kavi@redif.com\n",
       "4         S05  EINSTEN BOOK GALLARY          US  9542000001  eingal@aol.com"
      ]
     },
     "execution_count": 5,
     "metadata": {},
     "output_type": "execute_result"
    }
   ],
   "source": [
    "# head\n",
    "Suppliers_Details.head()"
   ]
  },
  {
   "cell_type": "markdown",
   "metadata": {},
   "source": [
    "#### shape of the data"
   ]
  },
  {
   "cell_type": "code",
   "execution_count": 6,
   "metadata": {},
   "outputs": [
    {
     "name": "stdout",
     "output_type": "stream",
     "text": [
      "(12, 5)\n"
     ]
    }
   ],
   "source": [
    "# shape\n",
    "print(Suppliers_Details.shape)\n"
   ]
  },
  {
   "cell_type": "code",
   "execution_count": 7,
   "metadata": {},
   "outputs": [
    {
     "name": "stdout",
     "output_type": "stream",
     "text": [
      "<class 'pandas.core.frame.DataFrame'>\n",
      "RangeIndex: 12 entries, 0 to 11\n",
      "Data columns (total 5 columns):\n",
      " #   Column         Non-Null Count  Dtype \n",
      "---  ------         --------------  ----- \n",
      " 0   SUPPLIER_ID    12 non-null     object\n",
      " 1   SUPPLIER_NAME  12 non-null     object\n",
      " 2   ADDRESS        12 non-null     object\n",
      " 3   CONTACT        12 non-null     int64 \n",
      " 4   EMAIL          12 non-null     object\n",
      "dtypes: int64(1), object(4)\n",
      "memory usage: 612.0+ bytes\n",
      "None\n"
     ]
    }
   ],
   "source": [
    "#Basic info\n",
    "print(Suppliers_Details.info())"
   ]
  },
  {
   "cell_type": "markdown",
   "metadata": {},
   "source": [
    "#### types of the data column"
   ]
  },
  {
   "cell_type": "code",
   "execution_count": 8,
   "metadata": {},
   "outputs": [
    {
     "name": "stdout",
     "output_type": "stream",
     "text": [
      "SUPPLIER_ID      object\n",
      "SUPPLIER_NAME    object\n",
      "ADDRESS          object\n",
      "CONTACT           int64\n",
      "EMAIL            object\n",
      "dtype: object\n"
     ]
    }
   ],
   "source": [
    "# types\n",
    "print(Suppliers_Details.dtypes)\n"
   ]
  },
  {
   "cell_type": "markdown",
   "metadata": {},
   "source": [
    "#### data descriptions"
   ]
  },
  {
   "cell_type": "code",
   "execution_count": 9,
   "metadata": {},
   "outputs": [
    {
     "data": {
      "text/html": [
       "<div>\n",
       "<style scoped>\n",
       "    .dataframe tbody tr th:only-of-type {\n",
       "        vertical-align: middle;\n",
       "    }\n",
       "\n",
       "    .dataframe tbody tr th {\n",
       "        vertical-align: top;\n",
       "    }\n",
       "\n",
       "    .dataframe thead th {\n",
       "        text-align: right;\n",
       "    }\n",
       "</style>\n",
       "<table border=\"1\" class=\"dataframe\">\n",
       "  <thead>\n",
       "    <tr style=\"text-align: right;\">\n",
       "      <th></th>\n",
       "      <th>CONTACT</th>\n",
       "    </tr>\n",
       "  </thead>\n",
       "  <tbody>\n",
       "    <tr>\n",
       "      <th>count</th>\n",
       "      <td>1.200000e+01</td>\n",
       "    </tr>\n",
       "    <tr>\n",
       "      <th>mean</th>\n",
       "      <td>9.219417e+09</td>\n",
       "    </tr>\n",
       "    <tr>\n",
       "      <th>std</th>\n",
       "      <td>7.783698e+08</td>\n",
       "    </tr>\n",
       "    <tr>\n",
       "      <th>min</th>\n",
       "      <td>7.855623e+09</td>\n",
       "    </tr>\n",
       "    <tr>\n",
       "      <th>25%</th>\n",
       "      <td>8.640501e+09</td>\n",
       "    </tr>\n",
       "    <tr>\n",
       "      <th>50%</th>\n",
       "      <td>9.493756e+09</td>\n",
       "    </tr>\n",
       "    <tr>\n",
       "      <th>75%</th>\n",
       "      <td>9.895349e+09</td>\n",
       "    </tr>\n",
       "    <tr>\n",
       "      <th>max</th>\n",
       "      <td>9.940123e+09</td>\n",
       "    </tr>\n",
       "  </tbody>\n",
       "</table>\n",
       "</div>"
      ],
      "text/plain": [
       "            CONTACT\n",
       "count  1.200000e+01\n",
       "mean   9.219417e+09\n",
       "std    7.783698e+08\n",
       "min    7.855623e+09\n",
       "25%    8.640501e+09\n",
       "50%    9.493756e+09\n",
       "75%    9.895349e+09\n",
       "max    9.940123e+09"
      ]
     },
     "execution_count": 9,
     "metadata": {},
     "output_type": "execute_result"
    }
   ],
   "source": [
    "# Summary statistics (numerical columns)\n",
    "Suppliers_Details.describe()\n"
   ]
  },
  {
   "cell_type": "markdown",
   "metadata": {},
   "source": [
    "#### data descriptions"
   ]
  },
  {
   "cell_type": "code",
   "execution_count": 10,
   "metadata": {},
   "outputs": [
    {
     "data": {
      "text/html": [
       "<div>\n",
       "<style scoped>\n",
       "    .dataframe tbody tr th:only-of-type {\n",
       "        vertical-align: middle;\n",
       "    }\n",
       "\n",
       "    .dataframe tbody tr th {\n",
       "        vertical-align: top;\n",
       "    }\n",
       "\n",
       "    .dataframe thead th {\n",
       "        text-align: right;\n",
       "    }\n",
       "</style>\n",
       "<table border=\"1\" class=\"dataframe\">\n",
       "  <thead>\n",
       "    <tr style=\"text-align: right;\">\n",
       "      <th></th>\n",
       "      <th>SUPPLIER_ID</th>\n",
       "      <th>SUPPLIER_NAME</th>\n",
       "      <th>ADDRESS</th>\n",
       "      <th>EMAIL</th>\n",
       "    </tr>\n",
       "  </thead>\n",
       "  <tbody>\n",
       "    <tr>\n",
       "      <th>count</th>\n",
       "      <td>12</td>\n",
       "      <td>12</td>\n",
       "      <td>12</td>\n",
       "      <td>12</td>\n",
       "    </tr>\n",
       "    <tr>\n",
       "      <th>unique</th>\n",
       "      <td>12</td>\n",
       "      <td>12</td>\n",
       "      <td>5</td>\n",
       "      <td>12</td>\n",
       "    </tr>\n",
       "    <tr>\n",
       "      <th>top</th>\n",
       "      <td>S01</td>\n",
       "      <td>SINGAPORE SHOPPEE</td>\n",
       "      <td>MUMBAI</td>\n",
       "      <td>sing@gmail.com</td>\n",
       "    </tr>\n",
       "    <tr>\n",
       "      <th>freq</th>\n",
       "      <td>1</td>\n",
       "      <td>1</td>\n",
       "      <td>4</td>\n",
       "      <td>1</td>\n",
       "    </tr>\n",
       "  </tbody>\n",
       "</table>\n",
       "</div>"
      ],
      "text/plain": [
       "       SUPPLIER_ID      SUPPLIER_NAME ADDRESS           EMAIL\n",
       "count           12                 12      12              12\n",
       "unique          12                 12       5              12\n",
       "top            S01  SINGAPORE SHOPPEE  MUMBAI  sing@gmail.com\n",
       "freq             1                  1       4               1"
      ]
     },
     "execution_count": 10,
     "metadata": {},
     "output_type": "execute_result"
    }
   ],
   "source": [
    "# descriptions\n",
    "Suppliers_Details.describe(include = 'object')\n"
   ]
  },
  {
   "cell_type": "markdown",
   "metadata": {},
   "source": [
    "#### Check for missing entries"
   ]
  },
  {
   "cell_type": "code",
   "execution_count": 11,
   "metadata": {},
   "outputs": [
    {
     "data": {
      "text/html": [
       "<div>\n",
       "<style scoped>\n",
       "    .dataframe tbody tr th:only-of-type {\n",
       "        vertical-align: middle;\n",
       "    }\n",
       "\n",
       "    .dataframe tbody tr th {\n",
       "        vertical-align: top;\n",
       "    }\n",
       "\n",
       "    .dataframe thead th {\n",
       "        text-align: right;\n",
       "    }\n",
       "</style>\n",
       "<table border=\"1\" class=\"dataframe\">\n",
       "  <thead>\n",
       "    <tr style=\"text-align: right;\">\n",
       "      <th></th>\n",
       "      <th>Total</th>\n",
       "      <th>Percent</th>\n",
       "    </tr>\n",
       "  </thead>\n",
       "  <tbody>\n",
       "    <tr>\n",
       "      <th>SUPPLIER_ID</th>\n",
       "      <td>0</td>\n",
       "      <td>0.0</td>\n",
       "    </tr>\n",
       "    <tr>\n",
       "      <th>SUPPLIER_NAME</th>\n",
       "      <td>0</td>\n",
       "      <td>0.0</td>\n",
       "    </tr>\n",
       "    <tr>\n",
       "      <th>ADDRESS</th>\n",
       "      <td>0</td>\n",
       "      <td>0.0</td>\n",
       "    </tr>\n",
       "    <tr>\n",
       "      <th>CONTACT</th>\n",
       "      <td>0</td>\n",
       "      <td>0.0</td>\n",
       "    </tr>\n",
       "    <tr>\n",
       "      <th>EMAIL</th>\n",
       "      <td>0</td>\n",
       "      <td>0.0</td>\n",
       "    </tr>\n",
       "  </tbody>\n",
       "</table>\n",
       "</div>"
      ],
      "text/plain": [
       "               Total  Percent\n",
       "SUPPLIER_ID        0      0.0\n",
       "SUPPLIER_NAME      0      0.0\n",
       "ADDRESS            0      0.0\n",
       "CONTACT            0      0.0\n",
       "EMAIL              0      0.0"
      ]
     },
     "execution_count": 11,
     "metadata": {},
     "output_type": "execute_result"
    }
   ],
   "source": [
    "# Check for missing entries\n",
    "total = Suppliers_Details.isnull().sum().sort_values(ascending=False)\n",
    "percent=(Suppliers_Details.isnull().sum()*100/len(Suppliers_Details)).sort_values(ascending=False)\n",
    "missing_data = pd.concat([total, percent], axis=1,keys=['Total', 'Percent'])\n",
    "missing_data.head(20)"
   ]
  },
  {
   "cell_type": "markdown",
   "metadata": {},
   "source": [
    "#### Check for duplicate data"
   ]
  },
  {
   "cell_type": "code",
   "execution_count": 12,
   "metadata": {},
   "outputs": [
    {
     "name": "stdout",
     "output_type": "stream",
     "text": [
      "False\n"
     ]
    }
   ],
   "source": [
    "# locate rows of duplicate data\n",
    "\n",
    "# calculate duplicates\n",
    "dups = Suppliers_Details.duplicated()\n",
    "# report if there are any duplicates\n",
    "print(dups.any())\n"
   ]
  },
  {
   "cell_type": "markdown",
   "metadata": {},
   "source": [
    "# Analysis"
   ]
  },
  {
   "cell_type": "code",
   "execution_count": 13,
   "metadata": {},
   "outputs": [
    {
     "data": {
      "text/html": [
       "<div>\n",
       "<style scoped>\n",
       "    .dataframe tbody tr th:only-of-type {\n",
       "        vertical-align: middle;\n",
       "    }\n",
       "\n",
       "    .dataframe tbody tr th {\n",
       "        vertical-align: top;\n",
       "    }\n",
       "\n",
       "    .dataframe thead th {\n",
       "        text-align: right;\n",
       "    }\n",
       "</style>\n",
       "<table border=\"1\" class=\"dataframe\">\n",
       "  <thead>\n",
       "    <tr style=\"text-align: right;\">\n",
       "      <th></th>\n",
       "      <th>SUPPLIER_ID</th>\n",
       "      <th>SUPPLIER_NAME</th>\n",
       "      <th>ADDRESS</th>\n",
       "      <th>CONTACT</th>\n",
       "      <th>EMAIL</th>\n",
       "    </tr>\n",
       "  </thead>\n",
       "  <tbody>\n",
       "    <tr>\n",
       "      <th>0</th>\n",
       "      <td>S01</td>\n",
       "      <td>SINGAPORE SHOPPEE</td>\n",
       "      <td>CHENNAI</td>\n",
       "      <td>9894123555</td>\n",
       "      <td>sing@gmail.com</td>\n",
       "    </tr>\n",
       "    <tr>\n",
       "      <th>1</th>\n",
       "      <td>S02</td>\n",
       "      <td>JK Stores</td>\n",
       "      <td>MUMBAI</td>\n",
       "      <td>9940123450</td>\n",
       "      <td>jks@yahoo.com</td>\n",
       "    </tr>\n",
       "    <tr>\n",
       "      <th>2</th>\n",
       "      <td>S03</td>\n",
       "      <td>ROSE BOOK STORE</td>\n",
       "      <td>TRIVANDRUM</td>\n",
       "      <td>9444411222</td>\n",
       "      <td>rose@gmail.com</td>\n",
       "    </tr>\n",
       "    <tr>\n",
       "      <th>3</th>\n",
       "      <td>S04</td>\n",
       "      <td>KAVARI STORE</td>\n",
       "      <td>DELHI</td>\n",
       "      <td>8630001452</td>\n",
       "      <td>kavi@redif.com</td>\n",
       "    </tr>\n",
       "    <tr>\n",
       "      <th>4</th>\n",
       "      <td>S05</td>\n",
       "      <td>EINSTEN BOOK GALLARY</td>\n",
       "      <td>US</td>\n",
       "      <td>9542000001</td>\n",
       "      <td>eingal@aol.com</td>\n",
       "    </tr>\n",
       "  </tbody>\n",
       "</table>\n",
       "</div>"
      ],
      "text/plain": [
       "  SUPPLIER_ID         SUPPLIER_NAME     ADDRESS     CONTACT           EMAIL\n",
       "0         S01     SINGAPORE SHOPPEE     CHENNAI  9894123555  sing@gmail.com\n",
       "1         S02             JK Stores      MUMBAI  9940123450   jks@yahoo.com\n",
       "2         S03       ROSE BOOK STORE  TRIVANDRUM  9444411222  rose@gmail.com\n",
       "3         S04          KAVARI STORE       DELHI  8630001452  kavi@redif.com\n",
       "4         S05  EINSTEN BOOK GALLARY          US  9542000001  eingal@aol.com"
      ]
     },
     "execution_count": 13,
     "metadata": {},
     "output_type": "execute_result"
    }
   ],
   "source": [
    "Suppliers_Details.head()"
   ]
  },
  {
   "cell_type": "code",
   "execution_count": 14,
   "metadata": {},
   "outputs": [
    {
     "data": {
      "text/plain": [
       "SUPPLIER_ID\n",
       "S01    1\n",
       "S02    1\n",
       "S03    1\n",
       "S04    1\n",
       "S05    1\n",
       "S06    1\n",
       "S07    1\n",
       "S08    1\n",
       "S09    1\n",
       "S10    1\n",
       "S11    1\n",
       "S12    1\n",
       "Name: count, dtype: int64"
      ]
     },
     "execution_count": 14,
     "metadata": {},
     "output_type": "execute_result"
    }
   ],
   "source": [
    "# Top Book Category\n",
    "Suppliers_Details['SUPPLIER_ID'].value_counts()"
   ]
  },
  {
   "cell_type": "code",
   "execution_count": 15,
   "metadata": {},
   "outputs": [
    {
     "data": {
      "text/plain": [
       "ADDRESS\n",
       "MUMBAI        4\n",
       "CHENNAI       2\n",
       "TRIVANDRUM    2\n",
       "DELHI         2\n",
       "US            2\n",
       "Name: count, dtype: int64"
      ]
     },
     "execution_count": 15,
     "metadata": {},
     "output_type": "execute_result"
    }
   ],
   "source": [
    "# Top Book Category\n",
    "Suppliers_Details['ADDRESS'].value_counts()"
   ]
  },
  {
   "cell_type": "code",
   "execution_count": 18,
   "metadata": {},
   "outputs": [],
   "source": [
    "# Export Suppliers_Details data to CSV without index\n",
    "Suppliers_Details.to_csv(\"Suppliers_Details.csv\",index =False)"
   ]
  },
  {
   "cell_type": "markdown",
   "metadata": {},
   "source": [
    "## 💬 Contact\n",
    "\n",
    "Feel free to connect with me on:\n",
    "- GitHub: [https://github.com/rotimi2020]\n",
    "- LinkedIn: [https://www.linkedin.com/in/rotimi-sheriff-omosewo-939a806b/]\n",
    "- Email: [omoseworotimi@gmail.com]\n",
    "\n",
    "\n"
   ]
  },
  {
   "cell_type": "code",
   "execution_count": null,
   "metadata": {},
   "outputs": [],
   "source": []
  }
 ],
 "metadata": {
  "kernelspec": {
   "display_name": "Python 3 (ipykernel)",
   "language": "python",
   "name": "python3"
  },
  "language_info": {
   "codemirror_mode": {
    "name": "ipython",
    "version": 3
   },
   "file_extension": ".py",
   "mimetype": "text/x-python",
   "name": "python",
   "nbconvert_exporter": "python",
   "pygments_lexer": "ipython3",
   "version": "3.12.7"
  }
 },
 "nbformat": 4,
 "nbformat_minor": 4
}
