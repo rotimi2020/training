{
 "cells": [
  {
   "cell_type": "markdown",
   "metadata": {},
   "source": [
    "# Import Libraries"
   ]
  },
  {
   "cell_type": "code",
   "execution_count": 1,
   "metadata": {},
   "outputs": [],
   "source": [
    "# Load libraries\n",
    "import numpy as np\n",
    "from matplotlib import pyplot\n",
    "from pandas import read_csv \n",
    "from pandas import set_option\n",
    "set_option('display.max_rows', 500)\n",
    "set_option('display.max_columns', 500)\n",
    "import pandas as pd\n",
    "import matplotlib.pyplot as plt\n",
    "from datetime import datetime\n",
    "import pyodbc\n",
    "from pandas.plotting import scatter_matrix\n",
    "import seaborn as sns\n",
    "import warnings\n",
    "warnings.filterwarnings(\"ignore\")"
   ]
  },
  {
   "cell_type": "markdown",
   "metadata": {},
   "source": [
    "# Connect to SQL Server"
   ]
  },
  {
   "cell_type": "code",
   "execution_count": 2,
   "metadata": {},
   "outputs": [
    {
     "data": {
      "text/plain": [
       "['SQL Server', 'ODBC Driver 17 for SQL Server']"
      ]
     },
     "execution_count": 2,
     "metadata": {},
     "output_type": "execute_result"
    }
   ],
   "source": [
    "pyodbc.drivers()"
   ]
  },
  {
   "cell_type": "code",
   "execution_count": 3,
   "metadata": {},
   "outputs": [],
   "source": [
    "connection = pyodbc.connect(\n",
    "\"Driver={ODBC Driver 17 for SQL Server};\"\n",
    "\"Server=DESKTOP-ROTIMI\\SQLEXPRESS;\"\n",
    "\"Database=LMS;\"\n",
    "\"Trusted_Connection=yes;\")"
   ]
  },
  {
   "cell_type": "markdown",
   "metadata": {},
   "source": [
    "# load dataset"
   ]
  },
  {
   "cell_type": "markdown",
   "metadata": {},
   "source": [
    "#### Extracting data from SQL Server"
   ]
  },
  {
   "cell_type": "code",
   "execution_count": 4,
   "metadata": {},
   "outputs": [],
   "source": [
    "# View data from SQL Server\n",
    "Lms_Members = pd.read_sql(\"Select * from [dbo].[LMS_MEMBERS]\",connection)"
   ]
  },
  {
   "cell_type": "raw",
   "metadata": {},
   "source": [
    "Analyze Data\n"
   ]
  },
  {
   "cell_type": "markdown",
   "metadata": {},
   "source": [
    "# Lms_Members Table"
   ]
  },
  {
   "cell_type": "markdown",
   "metadata": {},
   "source": [
    "#### View Data"
   ]
  },
  {
   "cell_type": "code",
   "execution_count": 5,
   "metadata": {},
   "outputs": [
    {
     "data": {
      "text/html": [
       "<div>\n",
       "<style scoped>\n",
       "    .dataframe tbody tr th:only-of-type {\n",
       "        vertical-align: middle;\n",
       "    }\n",
       "\n",
       "    .dataframe tbody tr th {\n",
       "        vertical-align: top;\n",
       "    }\n",
       "\n",
       "    .dataframe thead th {\n",
       "        text-align: right;\n",
       "    }\n",
       "</style>\n",
       "<table border=\"1\" class=\"dataframe\">\n",
       "  <thead>\n",
       "    <tr style=\"text-align: right;\">\n",
       "      <th></th>\n",
       "      <th>MEMBER_ID</th>\n",
       "      <th>MEMBER_NAME</th>\n",
       "      <th>CITY</th>\n",
       "      <th>DATE_REGISTER</th>\n",
       "      <th>DATE_EXPIRE</th>\n",
       "      <th>MEMBERSHIP_STATUS</th>\n",
       "    </tr>\n",
       "  </thead>\n",
       "  <tbody>\n",
       "    <tr>\n",
       "      <th>0</th>\n",
       "      <td>LM001</td>\n",
       "      <td>Akshay</td>\n",
       "      <td>CHENNAI</td>\n",
       "      <td>2018-06-12</td>\n",
       "      <td>2020-10-26</td>\n",
       "      <td>Temporary</td>\n",
       "    </tr>\n",
       "    <tr>\n",
       "      <th>1</th>\n",
       "      <td>LM002</td>\n",
       "      <td>Amruta</td>\n",
       "      <td>PUNE</td>\n",
       "      <td>2020-03-02</td>\n",
       "      <td>2020-06-03</td>\n",
       "      <td>Temporary</td>\n",
       "    </tr>\n",
       "    <tr>\n",
       "      <th>2</th>\n",
       "      <td>LM003</td>\n",
       "      <td>Ashish</td>\n",
       "      <td>CHENNAI</td>\n",
       "      <td>2018-06-12</td>\n",
       "      <td>2020-08-17</td>\n",
       "      <td>Permanent</td>\n",
       "    </tr>\n",
       "    <tr>\n",
       "      <th>3</th>\n",
       "      <td>LM004</td>\n",
       "      <td>Bhakti</td>\n",
       "      <td>CHENNAI</td>\n",
       "      <td>2018-06-12</td>\n",
       "      <td>2020-05-12</td>\n",
       "      <td>Temporary</td>\n",
       "    </tr>\n",
       "    <tr>\n",
       "      <th>4</th>\n",
       "      <td>LM005</td>\n",
       "      <td>Gautam</td>\n",
       "      <td>BANGALORE</td>\n",
       "      <td>2018-06-12</td>\n",
       "      <td>2020-11-06</td>\n",
       "      <td>Temporary</td>\n",
       "    </tr>\n",
       "  </tbody>\n",
       "</table>\n",
       "</div>"
      ],
      "text/plain": [
       "  MEMBER_ID MEMBER_NAME       CITY DATE_REGISTER DATE_EXPIRE MEMBERSHIP_STATUS\n",
       "0     LM001      Akshay    CHENNAI    2018-06-12  2020-10-26         Temporary\n",
       "1     LM002      Amruta       PUNE    2020-03-02  2020-06-03         Temporary\n",
       "2     LM003      Ashish    CHENNAI    2018-06-12  2020-08-17         Permanent\n",
       "3     LM004      Bhakti    CHENNAI    2018-06-12  2020-05-12         Temporary\n",
       "4     LM005      Gautam  BANGALORE    2018-06-12  2020-11-06         Temporary"
      ]
     },
     "execution_count": 5,
     "metadata": {},
     "output_type": "execute_result"
    }
   ],
   "source": [
    "# head\n",
    "Lms_Members.head()"
   ]
  },
  {
   "cell_type": "markdown",
   "metadata": {},
   "source": [
    "#### shape of the data"
   ]
  },
  {
   "cell_type": "code",
   "execution_count": 6,
   "metadata": {},
   "outputs": [
    {
     "name": "stdout",
     "output_type": "stream",
     "text": [
      "(25, 6)\n"
     ]
    }
   ],
   "source": [
    "# shape\n",
    "print(Lms_Members.shape)\n"
   ]
  },
  {
   "cell_type": "code",
   "execution_count": 7,
   "metadata": {},
   "outputs": [
    {
     "name": "stdout",
     "output_type": "stream",
     "text": [
      "<class 'pandas.core.frame.DataFrame'>\n",
      "RangeIndex: 25 entries, 0 to 24\n",
      "Data columns (total 6 columns):\n",
      " #   Column             Non-Null Count  Dtype \n",
      "---  ------             --------------  ----- \n",
      " 0   MEMBER_ID          25 non-null     object\n",
      " 1   MEMBER_NAME        25 non-null     object\n",
      " 2   CITY               25 non-null     object\n",
      " 3   DATE_REGISTER      25 non-null     object\n",
      " 4   DATE_EXPIRE        25 non-null     object\n",
      " 5   MEMBERSHIP_STATUS  25 non-null     object\n",
      "dtypes: object(6)\n",
      "memory usage: 1.3+ KB\n",
      "None\n"
     ]
    }
   ],
   "source": [
    "#Basic info\n",
    "print(Lms_Members.info())"
   ]
  },
  {
   "cell_type": "markdown",
   "metadata": {},
   "source": [
    "#### types of the data column"
   ]
  },
  {
   "cell_type": "code",
   "execution_count": 8,
   "metadata": {},
   "outputs": [
    {
     "name": "stdout",
     "output_type": "stream",
     "text": [
      "MEMBER_ID            object\n",
      "MEMBER_NAME          object\n",
      "CITY                 object\n",
      "DATE_REGISTER        object\n",
      "DATE_EXPIRE          object\n",
      "MEMBERSHIP_STATUS    object\n",
      "dtype: object\n"
     ]
    }
   ],
   "source": [
    "# types\n",
    "print(Lms_Members.dtypes)\n"
   ]
  },
  {
   "cell_type": "markdown",
   "metadata": {},
   "source": [
    "#### data descriptions"
   ]
  },
  {
   "cell_type": "code",
   "execution_count": 9,
   "metadata": {},
   "outputs": [
    {
     "data": {
      "text/html": [
       "<div>\n",
       "<style scoped>\n",
       "    .dataframe tbody tr th:only-of-type {\n",
       "        vertical-align: middle;\n",
       "    }\n",
       "\n",
       "    .dataframe tbody tr th {\n",
       "        vertical-align: top;\n",
       "    }\n",
       "\n",
       "    .dataframe thead th {\n",
       "        text-align: right;\n",
       "    }\n",
       "</style>\n",
       "<table border=\"1\" class=\"dataframe\">\n",
       "  <thead>\n",
       "    <tr style=\"text-align: right;\">\n",
       "      <th></th>\n",
       "      <th>MEMBER_ID</th>\n",
       "      <th>MEMBER_NAME</th>\n",
       "      <th>CITY</th>\n",
       "      <th>DATE_REGISTER</th>\n",
       "      <th>DATE_EXPIRE</th>\n",
       "      <th>MEMBERSHIP_STATUS</th>\n",
       "    </tr>\n",
       "  </thead>\n",
       "  <tbody>\n",
       "    <tr>\n",
       "      <th>count</th>\n",
       "      <td>25</td>\n",
       "      <td>25</td>\n",
       "      <td>25</td>\n",
       "      <td>25</td>\n",
       "      <td>25</td>\n",
       "      <td>25</td>\n",
       "    </tr>\n",
       "    <tr>\n",
       "      <th>unique</th>\n",
       "      <td>25</td>\n",
       "      <td>25</td>\n",
       "      <td>8</td>\n",
       "      <td>8</td>\n",
       "      <td>10</td>\n",
       "      <td>2</td>\n",
       "    </tr>\n",
       "    <tr>\n",
       "      <th>top</th>\n",
       "      <td>LM001</td>\n",
       "      <td>Akshay</td>\n",
       "      <td>CHENNAI</td>\n",
       "      <td>2018-06-12</td>\n",
       "      <td>2020-10-26</td>\n",
       "      <td>Permanent</td>\n",
       "    </tr>\n",
       "    <tr>\n",
       "      <th>freq</th>\n",
       "      <td>1</td>\n",
       "      <td>1</td>\n",
       "      <td>8</td>\n",
       "      <td>13</td>\n",
       "      <td>4</td>\n",
       "      <td>13</td>\n",
       "    </tr>\n",
       "  </tbody>\n",
       "</table>\n",
       "</div>"
      ],
      "text/plain": [
       "       MEMBER_ID MEMBER_NAME     CITY DATE_REGISTER DATE_EXPIRE  \\\n",
       "count         25          25       25            25          25   \n",
       "unique        25          25        8             8          10   \n",
       "top        LM001      Akshay  CHENNAI    2018-06-12  2020-10-26   \n",
       "freq           1           1        8            13           4   \n",
       "\n",
       "       MEMBERSHIP_STATUS  \n",
       "count                 25  \n",
       "unique                 2  \n",
       "top            Permanent  \n",
       "freq                  13  "
      ]
     },
     "execution_count": 9,
     "metadata": {},
     "output_type": "execute_result"
    }
   ],
   "source": [
    "# Summary statistics (numerical columns)\n",
    "Lms_Members.describe()\n"
   ]
  },
  {
   "cell_type": "markdown",
   "metadata": {},
   "source": [
    "#### Check for missing entries"
   ]
  },
  {
   "cell_type": "code",
   "execution_count": 10,
   "metadata": {},
   "outputs": [
    {
     "data": {
      "text/html": [
       "<div>\n",
       "<style scoped>\n",
       "    .dataframe tbody tr th:only-of-type {\n",
       "        vertical-align: middle;\n",
       "    }\n",
       "\n",
       "    .dataframe tbody tr th {\n",
       "        vertical-align: top;\n",
       "    }\n",
       "\n",
       "    .dataframe thead th {\n",
       "        text-align: right;\n",
       "    }\n",
       "</style>\n",
       "<table border=\"1\" class=\"dataframe\">\n",
       "  <thead>\n",
       "    <tr style=\"text-align: right;\">\n",
       "      <th></th>\n",
       "      <th>Total</th>\n",
       "      <th>Percent</th>\n",
       "    </tr>\n",
       "  </thead>\n",
       "  <tbody>\n",
       "    <tr>\n",
       "      <th>MEMBER_ID</th>\n",
       "      <td>0</td>\n",
       "      <td>0.0</td>\n",
       "    </tr>\n",
       "    <tr>\n",
       "      <th>MEMBER_NAME</th>\n",
       "      <td>0</td>\n",
       "      <td>0.0</td>\n",
       "    </tr>\n",
       "    <tr>\n",
       "      <th>CITY</th>\n",
       "      <td>0</td>\n",
       "      <td>0.0</td>\n",
       "    </tr>\n",
       "    <tr>\n",
       "      <th>DATE_REGISTER</th>\n",
       "      <td>0</td>\n",
       "      <td>0.0</td>\n",
       "    </tr>\n",
       "    <tr>\n",
       "      <th>DATE_EXPIRE</th>\n",
       "      <td>0</td>\n",
       "      <td>0.0</td>\n",
       "    </tr>\n",
       "    <tr>\n",
       "      <th>MEMBERSHIP_STATUS</th>\n",
       "      <td>0</td>\n",
       "      <td>0.0</td>\n",
       "    </tr>\n",
       "  </tbody>\n",
       "</table>\n",
       "</div>"
      ],
      "text/plain": [
       "                   Total  Percent\n",
       "MEMBER_ID              0      0.0\n",
       "MEMBER_NAME            0      0.0\n",
       "CITY                   0      0.0\n",
       "DATE_REGISTER          0      0.0\n",
       "DATE_EXPIRE            0      0.0\n",
       "MEMBERSHIP_STATUS      0      0.0"
      ]
     },
     "execution_count": 10,
     "metadata": {},
     "output_type": "execute_result"
    }
   ],
   "source": [
    "# Check for missing entries\n",
    "total = Lms_Members.isnull().sum().sort_values(ascending=False)\n",
    "percent=(Lms_Members.isnull().sum()*100/len(Lms_Members)).sort_values(ascending=False)\n",
    "missing_data = pd.concat([total, percent], axis=1,keys=['Total', 'Percent'])\n",
    "missing_data.head(20)"
   ]
  },
  {
   "cell_type": "markdown",
   "metadata": {},
   "source": [
    "#### Check for duplicate data"
   ]
  },
  {
   "cell_type": "code",
   "execution_count": 11,
   "metadata": {},
   "outputs": [
    {
     "name": "stdout",
     "output_type": "stream",
     "text": [
      "False\n"
     ]
    }
   ],
   "source": [
    "# locate rows of duplicate data\n",
    "\n",
    "# calculate duplicates\n",
    "dups = Lms_Members.duplicated()\n",
    "# report if there are any duplicates\n",
    "print(dups.any())\n"
   ]
  },
  {
   "cell_type": "code",
   "execution_count": 12,
   "metadata": {},
   "outputs": [],
   "source": [
    "# Convert to datetime\n",
    "Lms_Members['DATE_REGISTER'] = pd.to_datetime(Lms_Members['DATE_REGISTER'])\n",
    "Lms_Members['DATE_EXPIRE'] = pd.to_datetime(Lms_Members['DATE_EXPIRE'])"
   ]
  },
  {
   "cell_type": "code",
   "execution_count": 13,
   "metadata": {},
   "outputs": [
    {
     "data": {
      "text/html": [
       "<div>\n",
       "<style scoped>\n",
       "    .dataframe tbody tr th:only-of-type {\n",
       "        vertical-align: middle;\n",
       "    }\n",
       "\n",
       "    .dataframe tbody tr th {\n",
       "        vertical-align: top;\n",
       "    }\n",
       "\n",
       "    .dataframe thead th {\n",
       "        text-align: right;\n",
       "    }\n",
       "</style>\n",
       "<table border=\"1\" class=\"dataframe\">\n",
       "  <thead>\n",
       "    <tr style=\"text-align: right;\">\n",
       "      <th></th>\n",
       "      <th>MEMBER_ID</th>\n",
       "      <th>MEMBER_NAME</th>\n",
       "      <th>CITY</th>\n",
       "      <th>DATE_REGISTER</th>\n",
       "      <th>DATE_EXPIRE</th>\n",
       "      <th>MEMBERSHIP_STATUS</th>\n",
       "    </tr>\n",
       "  </thead>\n",
       "  <tbody>\n",
       "    <tr>\n",
       "      <th>0</th>\n",
       "      <td>LM001</td>\n",
       "      <td>Akshay</td>\n",
       "      <td>CHENNAI</td>\n",
       "      <td>2018-06-12</td>\n",
       "      <td>2020-10-26</td>\n",
       "      <td>Temporary</td>\n",
       "    </tr>\n",
       "    <tr>\n",
       "      <th>1</th>\n",
       "      <td>LM002</td>\n",
       "      <td>Amruta</td>\n",
       "      <td>PUNE</td>\n",
       "      <td>2020-03-02</td>\n",
       "      <td>2020-06-03</td>\n",
       "      <td>Temporary</td>\n",
       "    </tr>\n",
       "    <tr>\n",
       "      <th>2</th>\n",
       "      <td>LM003</td>\n",
       "      <td>Ashish</td>\n",
       "      <td>CHENNAI</td>\n",
       "      <td>2018-06-12</td>\n",
       "      <td>2020-08-17</td>\n",
       "      <td>Permanent</td>\n",
       "    </tr>\n",
       "    <tr>\n",
       "      <th>3</th>\n",
       "      <td>LM004</td>\n",
       "      <td>Bhakti</td>\n",
       "      <td>CHENNAI</td>\n",
       "      <td>2018-06-12</td>\n",
       "      <td>2020-05-12</td>\n",
       "      <td>Temporary</td>\n",
       "    </tr>\n",
       "    <tr>\n",
       "      <th>4</th>\n",
       "      <td>LM005</td>\n",
       "      <td>Gautam</td>\n",
       "      <td>BANGALORE</td>\n",
       "      <td>2018-06-12</td>\n",
       "      <td>2020-11-06</td>\n",
       "      <td>Temporary</td>\n",
       "    </tr>\n",
       "  </tbody>\n",
       "</table>\n",
       "</div>"
      ],
      "text/plain": [
       "  MEMBER_ID MEMBER_NAME       CITY DATE_REGISTER DATE_EXPIRE MEMBERSHIP_STATUS\n",
       "0     LM001      Akshay    CHENNAI    2018-06-12  2020-10-26         Temporary\n",
       "1     LM002      Amruta       PUNE    2020-03-02  2020-06-03         Temporary\n",
       "2     LM003      Ashish    CHENNAI    2018-06-12  2020-08-17         Permanent\n",
       "3     LM004      Bhakti    CHENNAI    2018-06-12  2020-05-12         Temporary\n",
       "4     LM005      Gautam  BANGALORE    2018-06-12  2020-11-06         Temporary"
      ]
     },
     "execution_count": 13,
     "metadata": {},
     "output_type": "execute_result"
    }
   ],
   "source": [
    "Lms_Members.head()"
   ]
  },
  {
   "cell_type": "markdown",
   "metadata": {},
   "source": [
    "# Analysis"
   ]
  },
  {
   "cell_type": "code",
   "execution_count": 14,
   "metadata": {},
   "outputs": [
    {
     "data": {
      "text/plain": [
       "CITY\n",
       "CHENNAI      8\n",
       "Bangalore    3\n",
       "Delhi        3\n",
       "Kerala       3\n",
       "PUNE         2\n",
       "BANGALORE    2\n",
       "Pune         2\n",
       "Punjab       2\n",
       "Name: count, dtype: int64"
      ]
     },
     "execution_count": 14,
     "metadata": {},
     "output_type": "execute_result"
    }
   ],
   "source": [
    "# Top City\n",
    "Lms_Members['CITY'].value_counts()"
   ]
  },
  {
   "cell_type": "code",
   "execution_count": 15,
   "metadata": {},
   "outputs": [
    {
     "data": {
      "text/plain": [
       "MEMBERSHIP_STATUS\n",
       "Permanent    13\n",
       "Temporary    12\n",
       "Name: count, dtype: int64"
      ]
     },
     "execution_count": 15,
     "metadata": {},
     "output_type": "execute_result"
    }
   ],
   "source": [
    "# MEMBERSHIP_STATUS Type\n",
    "Lms_Members['MEMBERSHIP_STATUS'].value_counts()"
   ]
  },
  {
   "cell_type": "code",
   "execution_count": 18,
   "metadata": {},
   "outputs": [],
   "source": [
    "# Export Lms_Members data to CSV without index\n",
    "Lms_Members.to_csv(\"Lms_Members.csv\",index =False)"
   ]
  },
  {
   "cell_type": "markdown",
   "metadata": {},
   "source": [
    "## 💬 Contact\n",
    "\n",
    "Feel free to connect with me on:\n",
    "- GitHub: [https://github.com/rotimi2020]\n",
    "- LinkedIn: [https://www.linkedin.com/in/rotimi-sheriff-omosewo-939a806b/]\n",
    "- Email: [omoseworotimi@gmail.com]\n",
    "\n",
    "\n"
   ]
  },
  {
   "cell_type": "code",
   "execution_count": null,
   "metadata": {},
   "outputs": [],
   "source": []
  }
 ],
 "metadata": {
  "kernelspec": {
   "display_name": "Python 3 (ipykernel)",
   "language": "python",
   "name": "python3"
  },
  "language_info": {
   "codemirror_mode": {
    "name": "ipython",
    "version": 3
   },
   "file_extension": ".py",
   "mimetype": "text/x-python",
   "name": "python",
   "nbconvert_exporter": "python",
   "pygments_lexer": "ipython3",
   "version": "3.12.7"
  }
 },
 "nbformat": 4,
 "nbformat_minor": 4
}
