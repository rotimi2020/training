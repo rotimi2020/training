{
 "cells": [
  {
   "cell_type": "markdown",
   "metadata": {},
   "source": [
    "# Import Libraries"
   ]
  },
  {
   "cell_type": "code",
   "execution_count": 1,
   "metadata": {},
   "outputs": [],
   "source": [
    "# Load libraries\n",
    "import numpy as np\n",
    "from matplotlib import pyplot\n",
    "from pandas import read_csv \n",
    "from pandas import set_option\n",
    "set_option('display.max_rows', 500)\n",
    "set_option('display.max_columns', 500)\n",
    "import pandas as pd\n",
    "import matplotlib.pyplot as plt\n",
    "from datetime import datetime\n",
    "import pyodbc\n",
    "from pandas.plotting import scatter_matrix\n",
    "import seaborn as sns\n",
    "import warnings\n",
    "warnings.filterwarnings(\"ignore\")"
   ]
  },
  {
   "cell_type": "markdown",
   "metadata": {},
   "source": [
    "# Connect to SQL Server"
   ]
  },
  {
   "cell_type": "code",
   "execution_count": 2,
   "metadata": {},
   "outputs": [
    {
     "data": {
      "text/plain": [
       "['SQL Server', 'ODBC Driver 17 for SQL Server']"
      ]
     },
     "execution_count": 2,
     "metadata": {},
     "output_type": "execute_result"
    }
   ],
   "source": [
    "pyodbc.drivers()"
   ]
  },
  {
   "cell_type": "code",
   "execution_count": 3,
   "metadata": {},
   "outputs": [],
   "source": [
    "connection = pyodbc.connect(\n",
    "\"Driver={ODBC Driver 17 for SQL Server};\"\n",
    "\"Server=DESKTOP-ROTIMI\\SQLEXPRESS;\"\n",
    "\"Database=LMS;\"\n",
    "\"Trusted_Connection=yes;\")"
   ]
  },
  {
   "cell_type": "markdown",
   "metadata": {},
   "source": [
    "# load dataset"
   ]
  },
  {
   "cell_type": "markdown",
   "metadata": {},
   "source": [
    "#### Extracting data from SQL Server"
   ]
  },
  {
   "cell_type": "code",
   "execution_count": 4,
   "metadata": {},
   "outputs": [],
   "source": [
    "# View data from SQL Server\n",
    "Book_Issue = pd.read_sql(\"Select * from [dbo].[LMS_BOOK_ISSUE]\",connection)"
   ]
  },
  {
   "cell_type": "raw",
   "metadata": {},
   "source": [
    "Analyze Data\n"
   ]
  },
  {
   "cell_type": "markdown",
   "metadata": {},
   "source": [
    "# Book_Issue Table"
   ]
  },
  {
   "cell_type": "markdown",
   "metadata": {},
   "source": [
    "#### View Data"
   ]
  },
  {
   "cell_type": "code",
   "execution_count": 5,
   "metadata": {},
   "outputs": [
    {
     "data": {
      "text/html": [
       "<div>\n",
       "<style scoped>\n",
       "    .dataframe tbody tr th:only-of-type {\n",
       "        vertical-align: middle;\n",
       "    }\n",
       "\n",
       "    .dataframe tbody tr th {\n",
       "        vertical-align: top;\n",
       "    }\n",
       "\n",
       "    .dataframe thead th {\n",
       "        text-align: right;\n",
       "    }\n",
       "</style>\n",
       "<table border=\"1\" class=\"dataframe\">\n",
       "  <thead>\n",
       "    <tr style=\"text-align: right;\">\n",
       "      <th></th>\n",
       "      <th>BOOK_ISSUE_NO</th>\n",
       "      <th>MEMBER_ID</th>\n",
       "      <th>BOOK_CODE</th>\n",
       "      <th>DATE_ISSUE</th>\n",
       "      <th>DATE_RETURN</th>\n",
       "      <th>DATE_RETURNED</th>\n",
       "      <th>FINE_RANGE</th>\n",
       "    </tr>\n",
       "  </thead>\n",
       "  <tbody>\n",
       "    <tr>\n",
       "      <th>0</th>\n",
       "      <td>1</td>\n",
       "      <td>LM001</td>\n",
       "      <td>BL000001</td>\n",
       "      <td>2012-05-01</td>\n",
       "      <td>2012-05-16</td>\n",
       "      <td>2012-05-16</td>\n",
       "      <td>None</td>\n",
       "    </tr>\n",
       "    <tr>\n",
       "      <th>1</th>\n",
       "      <td>2</td>\n",
       "      <td>LM002</td>\n",
       "      <td>BL000002</td>\n",
       "      <td>2012-05-01</td>\n",
       "      <td>2012-05-06</td>\n",
       "      <td>2012-05-16</td>\n",
       "      <td>R2</td>\n",
       "    </tr>\n",
       "    <tr>\n",
       "      <th>2</th>\n",
       "      <td>3</td>\n",
       "      <td>LM003</td>\n",
       "      <td>BL000007</td>\n",
       "      <td>2012-04-01</td>\n",
       "      <td>2012-04-16</td>\n",
       "      <td>2012-04-20</td>\n",
       "      <td>R1</td>\n",
       "    </tr>\n",
       "    <tr>\n",
       "      <th>3</th>\n",
       "      <td>4</td>\n",
       "      <td>LM004</td>\n",
       "      <td>BL000005</td>\n",
       "      <td>2012-04-01</td>\n",
       "      <td>2012-04-16</td>\n",
       "      <td>2012-04-20</td>\n",
       "      <td>R1</td>\n",
       "    </tr>\n",
       "    <tr>\n",
       "      <th>4</th>\n",
       "      <td>5</td>\n",
       "      <td>LM005</td>\n",
       "      <td>BL000005</td>\n",
       "      <td>2012-04-20</td>\n",
       "      <td>2012-05-05</td>\n",
       "      <td>2012-05-05</td>\n",
       "      <td>None</td>\n",
       "    </tr>\n",
       "  </tbody>\n",
       "</table>\n",
       "</div>"
      ],
      "text/plain": [
       "   BOOK_ISSUE_NO MEMBER_ID BOOK_CODE  DATE_ISSUE DATE_RETURN DATE_RETURNED  \\\n",
       "0              1     LM001  BL000001  2012-05-01  2012-05-16    2012-05-16   \n",
       "1              2     LM002  BL000002  2012-05-01  2012-05-06    2012-05-16   \n",
       "2              3     LM003  BL000007  2012-04-01  2012-04-16    2012-04-20   \n",
       "3              4     LM004  BL000005  2012-04-01  2012-04-16    2012-04-20   \n",
       "4              5     LM005  BL000005  2012-04-20  2012-05-05    2012-05-05   \n",
       "\n",
       "  FINE_RANGE  \n",
       "0       None  \n",
       "1         R2  \n",
       "2         R1  \n",
       "3         R1  \n",
       "4       None  "
      ]
     },
     "execution_count": 5,
     "metadata": {},
     "output_type": "execute_result"
    }
   ],
   "source": [
    "# head\n",
    "Book_Issue.head()"
   ]
  },
  {
   "cell_type": "markdown",
   "metadata": {},
   "source": [
    "#### shape of the data"
   ]
  },
  {
   "cell_type": "code",
   "execution_count": 6,
   "metadata": {},
   "outputs": [
    {
     "name": "stdout",
     "output_type": "stream",
     "text": [
      "(24, 7)\n"
     ]
    }
   ],
   "source": [
    "# shape\n",
    "print(Book_Issue.shape)\n"
   ]
  },
  {
   "cell_type": "code",
   "execution_count": 7,
   "metadata": {},
   "outputs": [
    {
     "name": "stdout",
     "output_type": "stream",
     "text": [
      "<class 'pandas.core.frame.DataFrame'>\n",
      "RangeIndex: 24 entries, 0 to 23\n",
      "Data columns (total 7 columns):\n",
      " #   Column         Non-Null Count  Dtype \n",
      "---  ------         --------------  ----- \n",
      " 0   BOOK_ISSUE_NO  24 non-null     int64 \n",
      " 1   MEMBER_ID      24 non-null     object\n",
      " 2   BOOK_CODE      24 non-null     object\n",
      " 3   DATE_ISSUE     24 non-null     object\n",
      " 4   DATE_RETURN    24 non-null     object\n",
      " 5   DATE_RETURNED  24 non-null     object\n",
      " 6   FINE_RANGE     16 non-null     object\n",
      "dtypes: int64(1), object(6)\n",
      "memory usage: 1.4+ KB\n",
      "None\n"
     ]
    }
   ],
   "source": [
    "# Basic info\n",
    "print(Book_Issue.info())"
   ]
  },
  {
   "cell_type": "markdown",
   "metadata": {},
   "source": [
    "#### types of the data column"
   ]
  },
  {
   "cell_type": "code",
   "execution_count": 8,
   "metadata": {},
   "outputs": [
    {
     "name": "stdout",
     "output_type": "stream",
     "text": [
      "BOOK_ISSUE_NO     int64\n",
      "MEMBER_ID        object\n",
      "BOOK_CODE        object\n",
      "DATE_ISSUE       object\n",
      "DATE_RETURN      object\n",
      "DATE_RETURNED    object\n",
      "FINE_RANGE       object\n",
      "dtype: object\n"
     ]
    }
   ],
   "source": [
    "# types\n",
    "print(Book_Issue.dtypes)\n"
   ]
  },
  {
   "cell_type": "markdown",
   "metadata": {},
   "source": [
    "#### data descriptions"
   ]
  },
  {
   "cell_type": "code",
   "execution_count": 9,
   "metadata": {},
   "outputs": [
    {
     "data": {
      "text/html": [
       "<div>\n",
       "<style scoped>\n",
       "    .dataframe tbody tr th:only-of-type {\n",
       "        vertical-align: middle;\n",
       "    }\n",
       "\n",
       "    .dataframe tbody tr th {\n",
       "        vertical-align: top;\n",
       "    }\n",
       "\n",
       "    .dataframe thead th {\n",
       "        text-align: right;\n",
       "    }\n",
       "</style>\n",
       "<table border=\"1\" class=\"dataframe\">\n",
       "  <thead>\n",
       "    <tr style=\"text-align: right;\">\n",
       "      <th></th>\n",
       "      <th>BOOK_ISSUE_NO</th>\n",
       "    </tr>\n",
       "  </thead>\n",
       "  <tbody>\n",
       "    <tr>\n",
       "      <th>count</th>\n",
       "      <td>24.000000</td>\n",
       "    </tr>\n",
       "    <tr>\n",
       "      <th>mean</th>\n",
       "      <td>12.500000</td>\n",
       "    </tr>\n",
       "    <tr>\n",
       "      <th>std</th>\n",
       "      <td>7.071068</td>\n",
       "    </tr>\n",
       "    <tr>\n",
       "      <th>min</th>\n",
       "      <td>1.000000</td>\n",
       "    </tr>\n",
       "    <tr>\n",
       "      <th>25%</th>\n",
       "      <td>6.750000</td>\n",
       "    </tr>\n",
       "    <tr>\n",
       "      <th>50%</th>\n",
       "      <td>12.500000</td>\n",
       "    </tr>\n",
       "    <tr>\n",
       "      <th>75%</th>\n",
       "      <td>18.250000</td>\n",
       "    </tr>\n",
       "    <tr>\n",
       "      <th>max</th>\n",
       "      <td>24.000000</td>\n",
       "    </tr>\n",
       "  </tbody>\n",
       "</table>\n",
       "</div>"
      ],
      "text/plain": [
       "       BOOK_ISSUE_NO\n",
       "count      24.000000\n",
       "mean       12.500000\n",
       "std         7.071068\n",
       "min         1.000000\n",
       "25%         6.750000\n",
       "50%        12.500000\n",
       "75%        18.250000\n",
       "max        24.000000"
      ]
     },
     "execution_count": 9,
     "metadata": {},
     "output_type": "execute_result"
    }
   ],
   "source": [
    "# Summary statistics (numerical columns)\n",
    "Book_Issue.describe()\n"
   ]
  },
  {
   "cell_type": "markdown",
   "metadata": {},
   "source": [
    "#### data descriptions"
   ]
  },
  {
   "cell_type": "code",
   "execution_count": 10,
   "metadata": {},
   "outputs": [
    {
     "data": {
      "text/html": [
       "<div>\n",
       "<style scoped>\n",
       "    .dataframe tbody tr th:only-of-type {\n",
       "        vertical-align: middle;\n",
       "    }\n",
       "\n",
       "    .dataframe tbody tr th {\n",
       "        vertical-align: top;\n",
       "    }\n",
       "\n",
       "    .dataframe thead th {\n",
       "        text-align: right;\n",
       "    }\n",
       "</style>\n",
       "<table border=\"1\" class=\"dataframe\">\n",
       "  <thead>\n",
       "    <tr style=\"text-align: right;\">\n",
       "      <th></th>\n",
       "      <th>MEMBER_ID</th>\n",
       "      <th>BOOK_CODE</th>\n",
       "      <th>DATE_ISSUE</th>\n",
       "      <th>DATE_RETURN</th>\n",
       "      <th>DATE_RETURNED</th>\n",
       "      <th>FINE_RANGE</th>\n",
       "    </tr>\n",
       "  </thead>\n",
       "  <tbody>\n",
       "    <tr>\n",
       "      <th>count</th>\n",
       "      <td>24</td>\n",
       "      <td>24</td>\n",
       "      <td>24</td>\n",
       "      <td>24</td>\n",
       "      <td>24</td>\n",
       "      <td>16</td>\n",
       "    </tr>\n",
       "    <tr>\n",
       "      <th>unique</th>\n",
       "      <td>5</td>\n",
       "      <td>4</td>\n",
       "      <td>18</td>\n",
       "      <td>20</td>\n",
       "      <td>16</td>\n",
       "      <td>3</td>\n",
       "    </tr>\n",
       "    <tr>\n",
       "      <th>top</th>\n",
       "      <td>LM003</td>\n",
       "      <td>BL000001</td>\n",
       "      <td>2012-05-01</td>\n",
       "      <td>2012-04-16</td>\n",
       "      <td>2012-05-16</td>\n",
       "      <td>R1</td>\n",
       "    </tr>\n",
       "    <tr>\n",
       "      <th>freq</th>\n",
       "      <td>8</td>\n",
       "      <td>6</td>\n",
       "      <td>2</td>\n",
       "      <td>2</td>\n",
       "      <td>2</td>\n",
       "      <td>8</td>\n",
       "    </tr>\n",
       "  </tbody>\n",
       "</table>\n",
       "</div>"
      ],
      "text/plain": [
       "       MEMBER_ID BOOK_CODE  DATE_ISSUE DATE_RETURN DATE_RETURNED FINE_RANGE\n",
       "count         24        24          24          24            24         16\n",
       "unique         5         4          18          20            16          3\n",
       "top        LM003  BL000001  2012-05-01  2012-04-16    2012-05-16         R1\n",
       "freq           8         6           2           2             2          8"
      ]
     },
     "execution_count": 10,
     "metadata": {},
     "output_type": "execute_result"
    }
   ],
   "source": [
    "# descriptions\n",
    "Book_Issue.describe(include = 'object')\n"
   ]
  },
  {
   "cell_type": "markdown",
   "metadata": {},
   "source": [
    "#### Check for missing entries"
   ]
  },
  {
   "cell_type": "code",
   "execution_count": 11,
   "metadata": {},
   "outputs": [
    {
     "data": {
      "text/html": [
       "<div>\n",
       "<style scoped>\n",
       "    .dataframe tbody tr th:only-of-type {\n",
       "        vertical-align: middle;\n",
       "    }\n",
       "\n",
       "    .dataframe tbody tr th {\n",
       "        vertical-align: top;\n",
       "    }\n",
       "\n",
       "    .dataframe thead th {\n",
       "        text-align: right;\n",
       "    }\n",
       "</style>\n",
       "<table border=\"1\" class=\"dataframe\">\n",
       "  <thead>\n",
       "    <tr style=\"text-align: right;\">\n",
       "      <th></th>\n",
       "      <th>Total</th>\n",
       "      <th>Percent</th>\n",
       "    </tr>\n",
       "  </thead>\n",
       "  <tbody>\n",
       "    <tr>\n",
       "      <th>FINE_RANGE</th>\n",
       "      <td>8</td>\n",
       "      <td>33.333333</td>\n",
       "    </tr>\n",
       "    <tr>\n",
       "      <th>BOOK_ISSUE_NO</th>\n",
       "      <td>0</td>\n",
       "      <td>0.000000</td>\n",
       "    </tr>\n",
       "    <tr>\n",
       "      <th>MEMBER_ID</th>\n",
       "      <td>0</td>\n",
       "      <td>0.000000</td>\n",
       "    </tr>\n",
       "    <tr>\n",
       "      <th>BOOK_CODE</th>\n",
       "      <td>0</td>\n",
       "      <td>0.000000</td>\n",
       "    </tr>\n",
       "    <tr>\n",
       "      <th>DATE_ISSUE</th>\n",
       "      <td>0</td>\n",
       "      <td>0.000000</td>\n",
       "    </tr>\n",
       "    <tr>\n",
       "      <th>DATE_RETURN</th>\n",
       "      <td>0</td>\n",
       "      <td>0.000000</td>\n",
       "    </tr>\n",
       "    <tr>\n",
       "      <th>DATE_RETURNED</th>\n",
       "      <td>0</td>\n",
       "      <td>0.000000</td>\n",
       "    </tr>\n",
       "  </tbody>\n",
       "</table>\n",
       "</div>"
      ],
      "text/plain": [
       "               Total    Percent\n",
       "FINE_RANGE         8  33.333333\n",
       "BOOK_ISSUE_NO      0   0.000000\n",
       "MEMBER_ID          0   0.000000\n",
       "BOOK_CODE          0   0.000000\n",
       "DATE_ISSUE         0   0.000000\n",
       "DATE_RETURN        0   0.000000\n",
       "DATE_RETURNED      0   0.000000"
      ]
     },
     "execution_count": 11,
     "metadata": {},
     "output_type": "execute_result"
    }
   ],
   "source": [
    "# Check for missing entries\n",
    "total = Book_Issue.isnull().sum().sort_values(ascending=False)\n",
    "percent=(Book_Issue.isnull().sum()*100/len(Book_Issue)).sort_values(ascending=False)\n",
    "missing_data = pd.concat([total, percent], axis=1,keys=['Total', 'Percent'])\n",
    "missing_data.head(20)"
   ]
  },
  {
   "cell_type": "code",
   "execution_count": 12,
   "metadata": {},
   "outputs": [
    {
     "data": {
      "text/plain": [
       "FINE_RANGE\n",
       "None    8\n",
       "R1      8\n",
       "R2      4\n",
       "R4      4\n",
       "Name: count, dtype: int64"
      ]
     },
     "execution_count": 12,
     "metadata": {},
     "output_type": "execute_result"
    }
   ],
   "source": [
    "Book_Issue['FINE_RANGE'].value_counts(dropna = False)"
   ]
  },
  {
   "cell_type": "code",
   "execution_count": 13,
   "metadata": {},
   "outputs": [],
   "source": [
    "Book_Issue['FINE_RANGE'].fillna('R0',inplace =True)"
   ]
  },
  {
   "cell_type": "markdown",
   "metadata": {},
   "source": [
    "#### Check for duplicate data"
   ]
  },
  {
   "cell_type": "code",
   "execution_count": 14,
   "metadata": {},
   "outputs": [
    {
     "name": "stdout",
     "output_type": "stream",
     "text": [
      "False\n"
     ]
    }
   ],
   "source": [
    "# locate rows of duplicate data\n",
    "\n",
    "# calculate duplicates\n",
    "dups = Book_Issue.duplicated()\n",
    "# report if there are any duplicates\n",
    "print(dups.any())\n"
   ]
  },
  {
   "cell_type": "code",
   "execution_count": 15,
   "metadata": {},
   "outputs": [],
   "source": [
    "# Convert to datetime\n",
    "Book_Issue['DATE_ISSUE'] = pd.to_datetime(Book_Issue['DATE_ISSUE'])\n",
    "Book_Issue['DATE_RETURN'] = pd.to_datetime(Book_Issue['DATE_RETURN'])\n",
    "Book_Issue['DATE_RETURNED'] = pd.to_datetime(Book_Issue['DATE_RETURNED'])"
   ]
  },
  {
   "cell_type": "markdown",
   "metadata": {},
   "source": [
    "# Analysis"
   ]
  },
  {
   "cell_type": "code",
   "execution_count": 16,
   "metadata": {},
   "outputs": [
    {
     "data": {
      "text/plain": [
       "MEMBER_ID\n",
       "LM003    8\n",
       "LM001    4\n",
       "LM002    4\n",
       "LM004    4\n",
       "LM005    4\n",
       "Name: count, dtype: int64"
      ]
     },
     "execution_count": 16,
     "metadata": {},
     "output_type": "execute_result"
    }
   ],
   "source": [
    "# List Of Top MEMBER_ID\n",
    "Book_Issue['MEMBER_ID'].value_counts()"
   ]
  },
  {
   "cell_type": "code",
   "execution_count": 17,
   "metadata": {},
   "outputs": [
    {
     "data": {
      "text/plain": [
       "BOOK_CODE\n",
       "BL000001    6\n",
       "BL000002    6\n",
       "BL000007    6\n",
       "BL000005    6\n",
       "Name: count, dtype: int64"
      ]
     },
     "execution_count": 17,
     "metadata": {},
     "output_type": "execute_result"
    }
   ],
   "source": [
    "# List Top BOOK_CODE \n",
    "Book_Issue['BOOK_CODE'].value_counts()"
   ]
  },
  {
   "cell_type": "code",
   "execution_count": 18,
   "metadata": {},
   "outputs": [],
   "source": [
    "# Export Book_Issue data to CSV without index\n",
    "Book_Issue.to_csv(\"Book_Issue.csv\",index =False)"
   ]
  },
  {
   "cell_type": "markdown",
   "metadata": {},
   "source": [
    "## 💬 Contact\n",
    "\n",
    "Feel free to connect with me on:\n",
    "- GitHub: [https://github.com/rotimi2020]\n",
    "- LinkedIn: [https://www.linkedin.com/in/rotimi-sheriff-omosewo-939a806b/]\n",
    "- Email: [omoseworotimi@gmail.com]\n",
    "\n",
    "\n"
   ]
  },
  {
   "cell_type": "code",
   "execution_count": null,
   "metadata": {},
   "outputs": [],
   "source": []
  }
 ],
 "metadata": {
  "kernelspec": {
   "display_name": "Python 3 (ipykernel)",
   "language": "python",
   "name": "python3"
  },
  "language_info": {
   "codemirror_mode": {
    "name": "ipython",
    "version": 3
   },
   "file_extension": ".py",
   "mimetype": "text/x-python",
   "name": "python",
   "nbconvert_exporter": "python",
   "pygments_lexer": "ipython3",
   "version": "3.12.7"
  }
 },
 "nbformat": 4,
 "nbformat_minor": 4
}
